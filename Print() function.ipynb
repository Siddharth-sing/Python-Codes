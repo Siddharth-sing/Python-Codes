{
 "cells": [
  {
   "cell_type": "code",
   "execution_count": 1,
   "id": "8b25d3dd",
   "metadata": {},
   "outputs": [
    {
     "name": "stdout",
     "output_type": "stream",
     "text": [
      "My Name is Siddharth Singh Baghel\n"
     ]
    }
   ],
   "source": [
    "# Simple way to of %d,%f,%s in python\n",
    "# Method 1\n",
    "\n",
    "first_name = \"Siddharth\"\n",
    "last_name = \"Singh Baghel\"\n",
    "\n",
    "print(\"My Name is {} {}\".format(first_name,last_name))"
   ]
  },
  {
   "cell_type": "code",
   "execution_count": 3,
   "id": "2b934c0e",
   "metadata": {},
   "outputs": [
    {
     "name": "stdout",
     "output_type": "stream",
     "text": [
      "My Name is Siddharth Singh Baghel\n",
      "My Name is Siddharth Singh Baghel\n"
     ]
    }
   ],
   "source": [
    "# Simple way to of %d,%f,%s in python\n",
    "# Method 2\n",
    "\n",
    "first_name = \"Siddharth\"\n",
    "last_name = \"Singh Baghel\"\n",
    "\n",
    "print(\"My Name is {first} {second}\".format(second = last_name,first = first_name))\n",
    "\n",
    "print(\"My Name is {first} {second}\".format(first = first_name,second = last_name))"
   ]
  },
  {
   "cell_type": "code",
   "execution_count": null,
   "id": "d41a986c",
   "metadata": {},
   "outputs": [],
   "source": []
  }
 ],
 "metadata": {
  "kernelspec": {
   "display_name": "Python 3",
   "language": "python",
   "name": "python3"
  },
  "language_info": {
   "codemirror_mode": {
    "name": "ipython",
    "version": 3
   },
   "file_extension": ".py",
   "mimetype": "text/x-python",
   "name": "python",
   "nbconvert_exporter": "python",
   "pygments_lexer": "ipython3",
   "version": "3.8.8"
  }
 },
 "nbformat": 4,
 "nbformat_minor": 5
}
