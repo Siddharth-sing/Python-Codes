{
 "cells": [
  {
   "cell_type": "code",
   "execution_count": 13,
   "id": "d6491df2",
   "metadata": {
    "scrolled": true
   },
   "outputs": [
    {
     "name": "stdout",
     "output_type": "stream",
     "text": [
      "Order only main Course\n"
     ]
    }
   ],
   "source": [
    "i = \"Partial on time\"\n",
    "if(i==\"late\"):{\n",
    "    print('order')\n",
    "}\n",
    "elif (i == \"Partial on time\"):{\n",
    "    print(\"Order only main Course\")    \n",
    "}\n",
    "else:{\n",
    "    print('cook')\n",
    "}"
   ]
  },
  {
   "cell_type": "code",
   "execution_count": 3,
   "id": "33915390",
   "metadata": {},
   "outputs": [
    {
     "name": "stdout",
     "output_type": "stream",
     "text": [
      "The number 29 is odd\n"
     ]
    }
   ],
   "source": [
    "i = 29\n",
    "num = i % 2\n",
    "if(num == 0):{\n",
    "    print('The number {} is Even'.format(i))\n",
    "}\n",
    "else:{\n",
    "    print('The number {} is odd'.format(i))\n",
    "}"
   ]
  },
  {
   "cell_type": "code",
   "execution_count": null,
   "id": "b5b45ef8",
   "metadata": {},
   "outputs": [],
   "source": []
  },
  {
   "cell_type": "code",
   "execution_count": null,
   "id": "8a35de22",
   "metadata": {},
   "outputs": [],
   "source": []
  }
 ],
 "metadata": {
  "kernelspec": {
   "display_name": "Python 3",
   "language": "python",
   "name": "python3"
  },
  "language_info": {
   "codemirror_mode": {
    "name": "ipython",
    "version": 3
   },
   "file_extension": ".py",
   "mimetype": "text/x-python",
   "name": "python",
   "nbconvert_exporter": "python",
   "pygments_lexer": "ipython3",
   "version": "3.8.8"
  }
 },
 "nbformat": 4,
 "nbformat_minor": 5
}
