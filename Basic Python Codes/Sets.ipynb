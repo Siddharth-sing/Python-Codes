{
 "cells": [
  {
   "cell_type": "markdown",
   "id": "7f4a5e52",
   "metadata": {},
   "source": [
    "# Sets, Dictionaries and Tuples\n",
    "\n"
   ]
  },
  {
   "cell_type": "markdown",
   "id": "6ddaa99f",
   "metadata": {},
   "source": [
    "## A set is an unordered collection  data type that is iterable, mutable, and has no  duplicate elements. Python set class represents the mathematical notion of a set. This is based on data structures known as hash tables.   "
   ]
  },
  {
   "cell_type": "code",
   "execution_count": 3,
   "id": "f9c11810",
   "metadata": {},
   "outputs": [],
   "source": [
    "## Sets does not support indexing"
   ]
  },
  {
   "cell_type": "code",
   "execution_count": 9,
   "id": "5554f311",
   "metadata": {},
   "outputs": [
    {
     "data": {
      "text/plain": [
       "set"
      ]
     },
     "execution_count": 9,
     "metadata": {},
     "output_type": "execute_result"
    }
   ],
   "source": [
    "set_var = set() \n",
    "type(set_var)"
   ]
  },
  {
   "cell_type": "code",
   "execution_count": 7,
   "id": "7f7860ae",
   "metadata": {},
   "outputs": [
    {
     "name": "stdout",
     "output_type": "stream",
     "text": [
      "0\n",
      "set()\n"
     ]
    },
    {
     "data": {
      "text/plain": [
       "set"
      ]
     },
     "execution_count": 7,
     "metadata": {},
     "output_type": "execute_result"
    }
   ],
   "source": [
    "print(len(set_var))\n",
    "print(set_var)\n",
    "type(set_var)"
   ]
  },
  {
   "cell_type": "code",
   "execution_count": 8,
   "id": "ff35a6d8",
   "metadata": {},
   "outputs": [
    {
     "name": "stdout",
     "output_type": "stream",
     "text": [
      "{1, 2, 3, 4, 5, 7}\n"
     ]
    }
   ],
   "source": [
    "mySet = {1,2,3,2,5,4,5,7,5}\n",
    "print(mySet)"
   ]
  },
  {
   "cell_type": "code",
   "execution_count": 9,
   "id": "e815882a",
   "metadata": {},
   "outputs": [
    {
     "data": {
      "text/plain": [
       "6"
      ]
     },
     "execution_count": 9,
     "metadata": {},
     "output_type": "execute_result"
    }
   ],
   "source": [
    "len(mySet)"
   ]
  },
  {
   "cell_type": "code",
   "execution_count": 10,
   "id": "a1b8dec6",
   "metadata": {},
   "outputs": [],
   "source": [
    "mySet.add(\"Hulk\")"
   ]
  },
  {
   "cell_type": "code",
   "execution_count": 11,
   "id": "aeb78214",
   "metadata": {},
   "outputs": [
    {
     "name": "stdout",
     "output_type": "stream",
     "text": [
      "{1, 2, 3, 4, 5, 7, 'Hulk'}\n"
     ]
    }
   ],
   "source": [
    "print(mySet)"
   ]
  },
  {
   "cell_type": "code",
   "execution_count": 4,
   "id": "d62401d0",
   "metadata": {},
   "outputs": [
    {
     "name": "stdout",
     "output_type": "stream",
     "text": [
      "{8, 5, 7}\n"
     ]
    }
   ],
   "source": [
    "set1 = {1,6,5,7,8}\n",
    "set2 = {5,7,8,9,10}\n",
    "\n",
    "print(set2.intersection(set1))"
   ]
  },
  {
   "cell_type": "code",
   "execution_count": 5,
   "id": "5a9c3d47",
   "metadata": {},
   "outputs": [
    {
     "name": "stdout",
     "output_type": "stream",
     "text": [
      "{5, 7, 8, 9, 10}\n"
     ]
    }
   ],
   "source": [
    "print(set2)"
   ]
  },
  {
   "cell_type": "markdown",
   "id": "7a6a833f",
   "metadata": {},
   "source": [
    "# Dictionaries\n",
    "It is a Key-value pair type data structure.\n",
    "\n",
    "Syntax : dic = {1:\"You\",2:\"Me\"}\n"
   ]
  },
  {
   "cell_type": "code",
   "execution_count": 11,
   "id": "a36e9a24",
   "metadata": {},
   "outputs": [
    {
     "data": {
      "text/plain": [
       "dict"
      ]
     },
     "execution_count": 11,
     "metadata": {},
     "output_type": "execute_result"
    }
   ],
   "source": [
    "dic={}\n",
    "type(dic)"
   ]
  },
  {
   "cell_type": "code",
   "execution_count": 16,
   "id": "6fdc484b",
   "metadata": {},
   "outputs": [
    {
     "name": "stdout",
     "output_type": "stream",
     "text": [
      "{'car1': 'Audi Q6', 'car2': 'Mclaren Gwez', 'car3': 'Lamborghini Gallardo'}\n"
     ]
    },
    {
     "data": {
      "text/plain": [
       "3"
      ]
     },
     "execution_count": 16,
     "metadata": {},
     "output_type": "execute_result"
    }
   ],
   "source": [
    "my_dic = {\"car1\":\"Audi Q6\",\"car2\":\"Mclaren Gwez\",\"car3\":\"Lamborghini Gallardo\"}\n",
    "print(my_dic)\n",
    "len(my_dic)"
   ]
  },
  {
   "cell_type": "code",
   "execution_count": 20,
   "id": "33ef941a",
   "metadata": {},
   "outputs": [
    {
     "name": "stdout",
     "output_type": "stream",
     "text": [
      "Lamborghini Gallardo\n",
      "Audi Q6\n"
     ]
    }
   ],
   "source": [
    "print(my_dic[\"car3\"])\n",
    "print(my_dic[\"car1\"])"
   ]
  },
  {
   "cell_type": "code",
   "execution_count": 32,
   "id": "61d1158c",
   "metadata": {},
   "outputs": [
    {
     "name": "stdout",
     "output_type": "stream",
     "text": [
      "Audi Q6\n",
      "Mclaren Gwez\n",
      "Lamborghini Gallardo\n"
     ]
    }
   ],
   "source": [
    "for x in my_dic.values():\n",
    "    {\n",
    "        print(x)\n",
    "    }"
   ]
  },
  {
   "cell_type": "code",
   "execution_count": 37,
   "id": "f4beb348",
   "metadata": {},
   "outputs": [
    {
     "name": "stdout",
     "output_type": "stream",
     "text": [
      "('car1', 'Audi Q6')\n",
      "('car2', 'Mclaren Gwez')\n",
      "('car3', 'Lamborghini Gallardo')\n",
      "('Bike1', 'KTM')\n"
     ]
    }
   ],
   "source": [
    "for x in my_dic.items():\n",
    "    {\n",
    "        print(x)\n",
    "    }"
   ]
  },
  {
   "cell_type": "code",
   "execution_count": 36,
   "id": "a9ee8fdf",
   "metadata": {},
   "outputs": [],
   "source": [
    "## adding new element in the dictionary\n",
    "\n",
    "my_dic[\"Bike1\"] = \"KTM\" "
   ]
  },
  {
   "cell_type": "markdown",
   "id": "ccf65a59",
   "metadata": {},
   "source": [
    "# TUPLES\n"
   ]
  },
  {
   "cell_type": "markdown",
   "id": "7378ffb6",
   "metadata": {},
   "source": [
    "## Tuples are immutable. That is they are fixed non changeble values."
   ]
  },
  {
   "cell_type": "code",
   "execution_count": 1,
   "id": "40daa5d2",
   "metadata": {},
   "outputs": [],
   "source": [
    "## Syntax :\n",
    "## my_tuple = (1,2,3)\n"
   ]
  },
  {
   "cell_type": "code",
   "execution_count": 9,
   "id": "b90954bc",
   "metadata": {},
   "outputs": [
    {
     "name": "stdout",
     "output_type": "stream",
     "text": [
      "<class 'tuple'>\n"
     ]
    }
   ],
   "source": [
    "print(type(()))"
   ]
  },
  {
   "cell_type": "code",
   "execution_count": 16,
   "id": "0085a62f",
   "metadata": {},
   "outputs": [],
   "source": [
    "my_tuple = (1,2,3,4,5,6,3,5,6,3,1) "
   ]
  },
  {
   "cell_type": "code",
   "execution_count": 17,
   "id": "2e2dfa72",
   "metadata": {},
   "outputs": [
    {
     "name": "stdout",
     "output_type": "stream",
     "text": [
      "(1, 2, 3, 4, 5, 6, 3, 5, 6, 3, 1)\n"
     ]
    }
   ],
   "source": [
    "print(my_tuple)"
   ]
  },
  {
   "cell_type": "code",
   "execution_count": 18,
   "id": "c7f0d2c3",
   "metadata": {},
   "outputs": [
    {
     "name": "stdout",
     "output_type": "stream",
     "text": [
      "7\n"
     ]
    }
   ],
   "source": [
    "x = my_tuple[1] + my_tuple[4]\n",
    "print(x)"
   ]
  },
  {
   "cell_type": "code",
   "execution_count": 19,
   "id": "d5377cec",
   "metadata": {},
   "outputs": [
    {
     "data": {
      "text/plain": [
       "11"
      ]
     },
     "execution_count": 19,
     "metadata": {},
     "output_type": "execute_result"
    }
   ],
   "source": [
    "len(my_tuple)"
   ]
  },
  {
   "cell_type": "code",
   "execution_count": 29,
   "id": "6ccbb702",
   "metadata": {},
   "outputs": [
    {
     "ename": "TypeError",
     "evalue": "'tuple' object does not support item assignment",
     "output_type": "error",
     "traceback": [
      "\u001b[1;31m---------------------------------------------------------------------------\u001b[0m",
      "\u001b[1;31mTypeError\u001b[0m                                 Traceback (most recent call last)",
      "\u001b[1;32m<ipython-input-29-d576f66f983c>\u001b[0m in \u001b[0;36m<module>\u001b[1;34m\u001b[0m\n\u001b[1;32m----> 1\u001b[1;33m \u001b[0mmy_tuple\u001b[0m\u001b[1;33m[\u001b[0m\u001b[1;36m3\u001b[0m\u001b[1;33m]\u001b[0m \u001b[1;33m=\u001b[0m \u001b[1;36m9\u001b[0m \u001b[1;31m##it will be an error because tuples are immutable data strutures.\u001b[0m\u001b[1;33m\u001b[0m\u001b[1;33m\u001b[0m\u001b[0m\n\u001b[0m",
      "\u001b[1;31mTypeError\u001b[0m: 'tuple' object does not support item assignment"
     ]
    }
   ],
   "source": [
    "my_tuple[3] = 9 ##it will be an error because tuples are immutable data strutures."
   ]
  },
  {
   "cell_type": "code",
   "execution_count": 32,
   "id": "46765b95",
   "metadata": {},
   "outputs": [
    {
     "name": "stdout",
     "output_type": "stream",
     "text": [
      "the no. of times 3 occur is 3 and index of 2 is 1.\n",
      "the no. of times 3 occur is 3 and index of 2 is 1.\n"
     ]
    }
   ],
   "source": [
    "\n",
    "print(\"the no. of times 3 occur is %d and index of 2 is %d.\" % (my_tuple.count(3), my_tuple.index(2)))\n",
    "print(\"the no. of times 3 occur is {} and index of 2 is {}.\".format(my_tuple.count(3), my_tuple.index(2)))\n"
   ]
  },
  {
   "cell_type": "code",
   "execution_count": null,
   "id": "b25d8c67",
   "metadata": {},
   "outputs": [],
   "source": []
  }
 ],
 "metadata": {
  "kernelspec": {
   "display_name": "Python 3",
   "language": "python",
   "name": "python3"
  },
  "language_info": {
   "codemirror_mode": {
    "name": "ipython",
    "version": 3
   },
   "file_extension": ".py",
   "mimetype": "text/x-python",
   "name": "python",
   "nbconvert_exporter": "python",
   "pygments_lexer": "ipython3",
   "version": "3.8.8"
  }
 },
 "nbformat": 4,
 "nbformat_minor": 5
}
