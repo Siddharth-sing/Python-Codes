{
 "cells": [
  {
   "cell_type": "markdown",
   "id": "eb6457c2",
   "metadata": {},
   "source": [
    "# Lists\n",
    "\n",
    " A List is a data structure in Python that is mutable, or changeble, ordered sequence of elements. Each element or value inside a list is called an item.\n",
    " \n",
    " Syntax :\n",
    "   my_list = [1,2,3,1,4,5,3,Siddharth,58.258]\n"
   ]
  },
  {
   "cell_type": "code",
   "execution_count": 1,
   "id": "609aba26",
   "metadata": {},
   "outputs": [
    {
     "data": {
      "text/plain": [
       "list"
      ]
     },
     "execution_count": 1,
     "metadata": {},
     "output_type": "execute_result"
    }
   ],
   "source": [
    "# [] represents lists\n",
    "\n",
    "type([])"
   ]
  },
  {
   "cell_type": "code",
   "execution_count": 5,
   "id": "126fa2cd",
   "metadata": {},
   "outputs": [
    {
     "name": "stdout",
     "output_type": "stream",
     "text": [
      "0\n",
      "\n",
      "\n",
      "List looks like : \n",
      "[1, 2, 5, 7, 8, 9, 'Siddharth', 'Singh']\n",
      "\n",
      "No. of items inside list is : 8\n"
     ]
    },
    {
     "data": {
      "text/plain": [
       "list"
      ]
     },
     "execution_count": 5,
     "metadata": {},
     "output_type": "execute_result"
    }
   ],
   "source": [
    "# Empty Lists\n",
    "\n",
    "my_list1 = []\n",
    "print(len(my_list1))\n",
    "print(\"\\n\")\n",
    "\n",
    "#Non Empty List\n",
    "\n",
    "my_list2 = [1,2,5,7,8,9,\"Siddharth\",\"Singh\"]\n",
    "print(\"List looks like : \\n{}\\n\".format(my_list2))\n",
    "print(\"No. of items inside list is : {}\".format(len(my_list2)))\n",
    "type(my_list2)"
   ]
  },
  {
   "cell_type": "markdown",
   "id": "268282cd",
   "metadata": {},
   "source": [
    "# Append"
   ]
  },
  {
   "cell_type": "code",
   "execution_count": 6,
   "id": "8924636b",
   "metadata": {},
   "outputs": [
    {
     "name": "stdout",
     "output_type": "stream",
     "text": [
      "[1, 2, 5, 7, 8, 9, 'Siddharth', 'Singh', 'Baghel']\n",
      "\n",
      "\n",
      "Baghel\n"
     ]
    }
   ],
   "source": [
    "\n",
    "my_list2.append(\"Baghel\")\n",
    "print(my_list2)\n",
    "print(\"\\n\")\n",
    "print(my_list2[len(my_list2)-1])\n"
   ]
  },
  {
   "cell_type": "code",
   "execution_count": 12,
   "id": "8944b580",
   "metadata": {},
   "outputs": [
    {
     "name": "stdout",
     "output_type": "stream",
     "text": [
      "5\n",
      "[1, 2, 5, 7, 8, 9, 'Siddharth', 'Singh', 'Baghel']\n",
      "[1, 2, 5, 7, 8, 9, 'Siddharth', 'Singh', 'Baghel']\n",
      "[2, 5, 7, 8, 9, 'Siddharth', 'Singh', 'Baghel']\n",
      "[5, 7, 8, 9]\n"
     ]
    }
   ],
   "source": [
    "# Indexing in Lists\n",
    "\n",
    "print(my_list2[2])\n",
    "\n",
    "print(my_list2[:])\n",
    "\n",
    "#Range in indexing \n",
    "\n",
    "print(my_list2[0:])\n",
    "print(my_list2[1:])\n",
    "print(my_list2[2:6])"
   ]
  },
  {
   "cell_type": "markdown",
   "id": "77b52163",
   "metadata": {},
   "source": [
    "# Append Nested Lists\n"
   ]
  },
  {
   "cell_type": "code",
   "execution_count": 13,
   "id": "a3d0e5e2",
   "metadata": {},
   "outputs": [],
   "source": [
    "my_list2.append([\"SDE\",\"at\",\"Amazon\",2026])"
   ]
  },
  {
   "cell_type": "code",
   "execution_count": 14,
   "id": "69ddabdb",
   "metadata": {},
   "outputs": [
    {
     "name": "stdout",
     "output_type": "stream",
     "text": [
      "[1, 2, 5, 7, 8, 9, 'Siddharth', 'Singh', 'Baghel', ['SDE', 'at', 'Amazon', 2026]]\n"
     ]
    }
   ],
   "source": [
    "print(my_list2)"
   ]
  },
  {
   "cell_type": "markdown",
   "id": "fbf55caf",
   "metadata": {},
   "source": [
    "## Extend"
   ]
  },
  {
   "cell_type": "code",
   "execution_count": 21,
   "id": "ed9279d2",
   "metadata": {},
   "outputs": [],
   "source": [
    "newList = [\"Siddharth\",\"Singh\",\"Baghel\"]"
   ]
  },
  {
   "cell_type": "code",
   "execution_count": 22,
   "id": "823b204a",
   "metadata": {},
   "outputs": [
    {
     "name": "stdout",
     "output_type": "stream",
     "text": [
      "['Siddharth', 'Singh', 'Baghel']\n"
     ]
    }
   ],
   "source": [
    "print(newList)"
   ]
  },
  {
   "cell_type": "code",
   "execution_count": 24,
   "id": "fbb262f2",
   "metadata": {},
   "outputs": [
    {
     "name": "stdout",
     "output_type": "stream",
     "text": [
      "['Siddharth', 'Singh', 'Baghel', 8, 9, 'SDE', 'at', 'Amazon', 2023]\n"
     ]
    }
   ],
   "source": [
    "newList.extend([\"SDE\",\"at\",\"Amazon\",2023])\n",
    "print(newList)"
   ]
  },
  {
   "cell_type": "code",
   "execution_count": 25,
   "id": "be8594dc",
   "metadata": {},
   "outputs": [],
   "source": [
    "newList.remove(8)"
   ]
  },
  {
   "cell_type": "code",
   "execution_count": 26,
   "id": "3ffdcff6",
   "metadata": {},
   "outputs": [],
   "source": [
    "newList.remove(9)"
   ]
  },
  {
   "cell_type": "code",
   "execution_count": 27,
   "id": "9876f9d6",
   "metadata": {},
   "outputs": [
    {
     "name": "stdout",
     "output_type": "stream",
     "text": [
      "['Siddharth', 'Singh', 'Baghel', 'SDE', 'at', 'Amazon', 2023]\n"
     ]
    }
   ],
   "source": [
    "print(newList)"
   ]
  },
  {
   "cell_type": "code",
   "execution_count": 44,
   "id": "2791533d",
   "metadata": {},
   "outputs": [
    {
     "name": "stdout",
     "output_type": "stream",
     "text": [
      "[23, 2, 3, 44, 5, 8, 5, 8, 9]\n",
      "2\n",
      "44\n",
      "9\n",
      "3\n",
      "5\n",
      "7\n"
     ]
    }
   ],
   "source": [
    "lst = [23,2,3,44,5,8,5,8,9]\n",
    "print(lst)\n",
    "print(min(lst))\n",
    "print(max(lst))\n",
    "print(len(lst))\n",
    "print(lst.index(44))\n",
    "print(lst.index(8))\n",
    "print(lst.index(8,6,9))"
   ]
  },
  {
   "cell_type": "code",
   "execution_count": 57,
   "id": "f1801968",
   "metadata": {},
   "outputs": [
    {
     "name": "stdout",
     "output_type": "stream",
     "text": [
      "[23, 2, 3, 44, 5, 8, 5, 8, 9, 23, 2, 3, 44, 5, 8, 5, 8, 9, 23, 2, 3, 44, 5, 8, 5, 8, 9, 23, 2, 3, 44, 5, 8, 5, 8, 9, 23, 2, 3, 44, 5, 8, 5, 8, 9, 23, 2, 3, 44, 5, 8, 5, 8, 9, 23, 2, 3, 44, 5, 8, 5, 8, 9, 23, 2, 3, 44, 5, 8, 5, 8, 9]\n"
     ]
    }
   ],
   "source": [
    "lst = lst*8\n",
    "print(lst)"
   ]
  },
  {
   "cell_type": "code",
   "execution_count": 58,
   "id": "468df875",
   "metadata": {},
   "outputs": [
    {
     "name": "stdout",
     "output_type": "stream",
     "text": [
      "72\n"
     ]
    }
   ],
   "source": [
    "print(len(lst))"
   ]
  },
  {
   "cell_type": "code",
   "execution_count": null,
   "id": "7bf286ef",
   "metadata": {},
   "outputs": [],
   "source": []
  }
 ],
 "metadata": {
  "kernelspec": {
   "display_name": "Python 3",
   "language": "python",
   "name": "python3"
  },
  "language_info": {
   "codemirror_mode": {
    "name": "ipython",
    "version": 3
   },
   "file_extension": ".py",
   "mimetype": "text/x-python",
   "name": "python",
   "nbconvert_exporter": "python",
   "pygments_lexer": "ipython3",
   "version": "3.8.8"
  }
 },
 "nbformat": 4,
 "nbformat_minor": 5
}
