{
 "cells": [
  {
   "cell_type": "code",
   "execution_count": 4,
   "id": "d4f3713a",
   "metadata": {},
   "outputs": [
    {
     "name": "stdout",
     "output_type": "stream",
     "text": [
      "24\n",
      "Not Weird\n"
     ]
    }
   ],
   "source": [
    "#!/bin/python3\n",
    "\n",
    "import math\n",
    "import os\n",
    "import random\n",
    "import re\n",
    "import sys\n",
    "\n",
    "n = int(input())\n",
    "\n",
    "if(n%2!=0):\n",
    "   print(\"Weird\")   \n",
    "else:\n",
    "    if(n%2 == 0 and n >=2 and n <= 5):\n",
    "      {\n",
    "       print(\"Not Weird\")\n",
    "      }\n",
    "    elif(n%2 == 0 and n >=6 and n <= 20):\n",
    "      {\n",
    "       print(\"Weird\")\n",
    "      }  \n",
    "    elif(n%2 == 0 and  n > 20):\n",
    "      {\n",
    "       print(\"Not Weird\")\n",
    "      }  \n",
    "    \n",
    "\n"
   ]
  },
  {
   "cell_type": "code",
   "execution_count": null,
   "id": "f9547074",
   "metadata": {},
   "outputs": [],
   "source": []
  },
  {
   "cell_type": "code",
   "execution_count": null,
   "id": "6478d2a6",
   "metadata": {},
   "outputs": [],
   "source": []
  }
 ],
 "metadata": {
  "kernelspec": {
   "display_name": "Python 3",
   "language": "python",
   "name": "python3"
  },
  "language_info": {
   "codemirror_mode": {
    "name": "ipython",
    "version": 3
   },
   "file_extension": ".py",
   "mimetype": "text/x-python",
   "name": "python",
   "nbconvert_exporter": "python",
   "pygments_lexer": "ipython3",
   "version": "3.8.8"
  }
 },
 "nbformat": 4,
 "nbformat_minor": 5
}
