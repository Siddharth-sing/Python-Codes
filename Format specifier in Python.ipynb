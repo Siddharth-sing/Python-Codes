{
 "cells": [
  {
   "cell_type": "code",
   "execution_count": 6,
   "id": "4f3f7172",
   "metadata": {},
   "outputs": [
    {
     "name": "stdout",
     "output_type": "stream",
     "text": [
      "the no. of times 3 occur is 4 and index of 2 is 1.\n",
      "the no. of times 3 occur is 4 and index of 2 is 1.\n"
     ]
    }
   ],
   "source": [
    "my_tuple = (1,2,3,4,5,1,2,3,5,8,7,2,3,1,7,3)\n",
    "print(\"the no. of times 3 occur is %d and index of 2 is %d.\" % (my_tuple.count(3), my_tuple.index(2)))\n",
    "print(\"the no. of times 3 occur is {} and index of 2 is {}.\".format(my_tuple.count(3), my_tuple.index(2)))\n"
   ]
  },
  {
   "cell_type": "code",
   "execution_count": null,
   "id": "50eb9be0",
   "metadata": {},
   "outputs": [],
   "source": []
  }
 ],
 "metadata": {
  "kernelspec": {
   "display_name": "Python 3",
   "language": "python",
   "name": "python3"
  },
  "language_info": {
   "codemirror_mode": {
    "name": "ipython",
    "version": 3
   },
   "file_extension": ".py",
   "mimetype": "text/x-python",
   "name": "python",
   "nbconvert_exporter": "python",
   "pygments_lexer": "ipython3",
   "version": "3.8.8"
  }
 },
 "nbformat": 4,
 "nbformat_minor": 5
}
